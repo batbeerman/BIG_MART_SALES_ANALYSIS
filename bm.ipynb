{
 "cells": [
  {
   "cell_type": "code",
   "execution_count": 1,
   "metadata": {
    "collapsed": true
   },
   "outputs": [],
   "source": [
    "import pandas as pd\n",
    "import numpy as np\n",
    "import matplotlib.pyplot as plt\n",
    "import seaborn as sns\n",
    "df=pd.read_csv('C:/Users/Raven/Desktop/Big_mart.csv')"
   ]
  },
  {
   "cell_type": "code",
   "execution_count": 2,
   "metadata": {
    "collapsed": false
   },
   "outputs": [
    {
     "name": "stdout",
     "output_type": "stream",
     "text": [
      "102276\n"
     ]
    }
   ],
   "source": [
    "print(df.size)"
   ]
  },
  {
   "cell_type": "code",
   "execution_count": 3,
   "metadata": {
    "collapsed": false
   },
   "outputs": [
    {
     "name": "stdout",
     "output_type": "stream",
     "text": [
      "(8523, 12)\n"
     ]
    }
   ],
   "source": [
    "print(df.shape)"
   ]
  },
  {
   "cell_type": "code",
   "execution_count": 4,
   "metadata": {
    "collapsed": false
   },
   "outputs": [
    {
     "name": "stdout",
     "output_type": "stream",
     "text": [
      "  Item_Identifier  Item_Weight Item_Fat_Content  Item_Visibility  \\\n",
      "0           FDA15         9.30          Low Fat         0.016047   \n",
      "1           DRC01         5.92          Regular         0.019278   \n",
      "2           FDN15        17.50          Low Fat         0.016760   \n",
      "3           FDX07        19.20          Regular         0.000000   \n",
      "4           NCD19         8.93          Low Fat         0.000000   \n",
      "\n",
      "               Item_Type  Item_MRP Outlet_Identifier  \\\n",
      "0                  Dairy  249.8092            OUT049   \n",
      "1            Soft Drinks   48.2692            OUT018   \n",
      "2                   Meat  141.6180            OUT049   \n",
      "3  Fruits and Vegetables  182.0950            OUT010   \n",
      "4              Household   53.8614            OUT013   \n",
      "\n",
      "   Outlet_Establishment_Year Outlet_Size Outlet_Location_Type  \\\n",
      "0                       1999      Medium               Tier 1   \n",
      "1                       2009      Medium               Tier 3   \n",
      "2                       1999      Medium               Tier 1   \n",
      "3                       1998         NaN               Tier 3   \n",
      "4                       1987        High               Tier 3   \n",
      "\n",
      "         Outlet_Type  Item_Outlet_Sales  \n",
      "0  Supermarket Type1          3735.1380  \n",
      "1  Supermarket Type2           443.4228  \n",
      "2  Supermarket Type1          2097.2700  \n",
      "3      Grocery Store           732.3800  \n",
      "4  Supermarket Type1           994.7052  \n"
     ]
    }
   ],
   "source": [
    "print(df.head())"
   ]
  },
  {
   "cell_type": "code",
   "execution_count": 5,
   "metadata": {
    "collapsed": false
   },
   "outputs": [
    {
     "name": "stdout",
     "output_type": "stream",
     "text": [
      "       Item_Identifier  Item_Weight Item_Fat_Content  Item_Visibility  \\\n",
      "count             8523  7060.000000             8523      8523.000000   \n",
      "unique            1559          NaN                5              NaN   \n",
      "top              FDW13          NaN          Low Fat              NaN   \n",
      "freq                10          NaN             5089              NaN   \n",
      "mean               NaN    12.857645              NaN         0.066132   \n",
      "std                NaN     4.643456              NaN         0.051598   \n",
      "min                NaN     4.555000              NaN         0.000000   \n",
      "25%                NaN     8.773750              NaN         0.026989   \n",
      "50%                NaN    12.600000              NaN         0.053931   \n",
      "75%                NaN    16.850000              NaN         0.094585   \n",
      "max                NaN    21.350000              NaN         0.328391   \n",
      "\n",
      "                    Item_Type     Item_MRP Outlet_Identifier  \\\n",
      "count                    8523  8523.000000              8523   \n",
      "unique                     16          NaN                10   \n",
      "top     Fruits and Vegetables          NaN            OUT027   \n",
      "freq                     1232          NaN               935   \n",
      "mean                      NaN   140.992782               NaN   \n",
      "std                       NaN    62.275067               NaN   \n",
      "min                       NaN    31.290000               NaN   \n",
      "25%                       NaN    93.826500               NaN   \n",
      "50%                       NaN   143.012800               NaN   \n",
      "75%                       NaN   185.643700               NaN   \n",
      "max                       NaN   266.888400               NaN   \n",
      "\n",
      "        Outlet_Establishment_Year Outlet_Size Outlet_Location_Type  \\\n",
      "count                 8523.000000        6113                 8523   \n",
      "unique                        NaN           3                    3   \n",
      "top                           NaN      Medium               Tier 3   \n",
      "freq                          NaN        2793                 3350   \n",
      "mean                  1997.831867         NaN                  NaN   \n",
      "std                      8.371760         NaN                  NaN   \n",
      "min                   1985.000000         NaN                  NaN   \n",
      "25%                   1987.000000         NaN                  NaN   \n",
      "50%                   1999.000000         NaN                  NaN   \n",
      "75%                   2004.000000         NaN                  NaN   \n",
      "max                   2009.000000         NaN                  NaN   \n",
      "\n",
      "              Outlet_Type  Item_Outlet_Sales  \n",
      "count                8523        8523.000000  \n",
      "unique                  4                NaN  \n",
      "top     Supermarket Type1                NaN  \n",
      "freq                 5577                NaN  \n",
      "mean                  NaN        2181.288914  \n",
      "std                   NaN        1706.499616  \n",
      "min                   NaN          33.290000  \n",
      "25%                   NaN         834.247400  \n",
      "50%                   NaN        1794.331000  \n",
      "75%                   NaN        3101.296400  \n",
      "max                   NaN       13086.964800  \n"
     ]
    }
   ],
   "source": [
    "print(df.describe(include='all'))"
   ]
  },
  {
   "cell_type": "code",
   "execution_count": 6,
   "metadata": {
    "collapsed": false
   },
   "outputs": [
    {
     "name": "stdout",
     "output_type": "stream",
     "text": [
      "Item_Identifier                 0\n",
      "Item_Weight                  1463\n",
      "Item_Fat_Content                0\n",
      "Item_Visibility                 0\n",
      "Item_Type                       0\n",
      "Item_MRP                        0\n",
      "Outlet_Identifier               0\n",
      "Outlet_Establishment_Year       0\n",
      "Outlet_Size                  2410\n",
      "Outlet_Location_Type            0\n",
      "Outlet_Type                     0\n",
      "Item_Outlet_Sales               0\n",
      "dtype: int64\n"
     ]
    }
   ],
   "source": [
    "print(df.isnull().sum())"
   ]
  },
  {
   "cell_type": "code",
   "execution_count": 7,
   "metadata": {
    "collapsed": false
   },
   "outputs": [
    {
     "data": {
      "text/plain": [
       "['Item_Identifier',\n",
       " 'Item_Weight',\n",
       " 'Item_Fat_Content',\n",
       " 'Item_Visibility',\n",
       " 'Item_Type',\n",
       " 'Item_MRP',\n",
       " 'Outlet_Identifier',\n",
       " 'Outlet_Establishment_Year',\n",
       " 'Outlet_Size',\n",
       " 'Outlet_Location_Type',\n",
       " 'Outlet_Type',\n",
       " 'Item_Outlet_Sales']"
      ]
     },
     "execution_count": 7,
     "metadata": {},
     "output_type": "execute_result"
    }
   ],
   "source": [
    "list(df.columns)"
   ]
  },
  {
   "cell_type": "code",
   "execution_count": 8,
   "metadata": {
    "collapsed": false
   },
   "outputs": [
    {
     "name": "stdout",
     "output_type": "stream",
     "text": [
      "\n",
      "Frequency of Categories for Item_Fat_Content\n",
      "Low Fat    5089\n",
      "Regular    2889\n",
      "LF          316\n",
      "reg         117\n",
      "low fat     112\n",
      "Name: Item_Fat_Content, dtype: int64\n",
      "\n",
      "Frequency of Categories for Item_Type\n",
      "Fruits and Vegetables    1232\n",
      "Snack Foods              1200\n",
      "Household                 910\n",
      "Frozen Foods              856\n",
      "Dairy                     682\n",
      "Canned                    649\n",
      "Baking Goods              648\n",
      "Health and Hygiene        520\n",
      "Soft Drinks               445\n",
      "Meat                      425\n",
      "Breads                    251\n",
      "Hard Drinks               214\n",
      "Others                    169\n",
      "Starchy Foods             148\n",
      "Breakfast                 110\n",
      "Seafood                    64\n",
      "Name: Item_Type, dtype: int64\n",
      "\n",
      "Frequency of Categories for Outlet_Size\n",
      "Medium    2793\n",
      "Small     2388\n",
      "High       932\n",
      "Name: Outlet_Size, dtype: int64\n",
      "\n",
      "Frequency of Categories for Outlet_Location_Type\n",
      "Tier 3    3350\n",
      "Tier 2    2785\n",
      "Tier 1    2388\n",
      "Name: Outlet_Location_Type, dtype: int64\n",
      "\n",
      "Frequency of Categories for Outlet_Type\n",
      "Supermarket Type1    5577\n",
      "Grocery Store        1083\n",
      "Supermarket Type3     935\n",
      "Supermarket Type2     928\n",
      "Name: Outlet_Type, dtype: int64\n"
     ]
    }
   ],
   "source": [
    "cc = [x for x in df.dtypes.index if df.dtypes[x]=='object']\n",
    "cc = [x for x in cc if x not in ['Item_Identifier','Outlet_Identifier']]\n",
    "for col in cc:\n",
    "    print ('\\nFrequency of Categories for %s'%col)\n",
    "    print (df[col].value_counts())"
   ]
  },
  {
   "cell_type": "code",
   "execution_count": 9,
   "metadata": {
    "collapsed": true
   },
   "outputs": [],
   "source": [
    "df['Item_Weight'] = df['Item_Weight'].fillna((df['Item_Weight'].mean()))"
   ]
  },
  {
   "cell_type": "code",
   "execution_count": 11,
   "metadata": {
    "collapsed": false
   },
   "outputs": [
    {
     "name": "stdout",
     "output_type": "stream",
     "text": [
      "{'Supermarket Type2': 'Medium', 'Supermarket Type3': 'Medium', 'Grocery Store': 'Small', 'Supermarket Type1': 'Small'}\n",
      "\n",
      "Orignal missing value in Outlet_Size: 0\n",
      "New missing value count in Outlet_Size: 0\n"
     ]
    }
   ],
   "source": [
    "size_outlet = {}\n",
    "for i in set(df['Outlet_Type']):\n",
    "  size_outlet[i] = df[df['Outlet_Type'] == i]['Outlet_Size'].mode()[0]\n",
    "print(outletSizeMode)\n",
    "miss_bool = df['Outlet_Size'].isnull()\n",
    "print ('\\nOrignal missing value in Outlet_Size: %d'% sum(miss_bool))\n",
    "df.loc[miss_bool,'Outlet_Size'] = df.loc[miss_bool,'Outlet_Type'].apply(lambda x: outletSizeMode[x])\n",
    "print (\"New missing value count in Outlet_Size:\",sum(df['Outlet_Size'].isnull()))"
   ]
  },
  {
   "cell_type": "code",
   "execution_count": 12,
   "metadata": {
    "collapsed": false
   },
   "outputs": [
    {
     "name": "stdout",
     "output_type": "stream",
     "text": [
      "Item_Identifier              0\n",
      "Item_Weight                  0\n",
      "Item_Fat_Content             0\n",
      "Item_Visibility              0\n",
      "Item_Type                    0\n",
      "Item_MRP                     0\n",
      "Outlet_Identifier            0\n",
      "Outlet_Establishment_Year    0\n",
      "Outlet_Size                  0\n",
      "Outlet_Location_Type         0\n",
      "Outlet_Type                  0\n",
      "Item_Outlet_Sales            0\n",
      "dtype: int64\n"
     ]
    }
   ],
   "source": [
    "\n",
    "print(df.isnull().sum())"
   ]
  },
  {
   "cell_type": "code",
   "execution_count": 13,
   "metadata": {
    "collapsed": true
   },
   "outputs": [],
   "source": [
    "df['Item_Fat_Content']=df['Item_Fat_Content'].replace({'LF': 'Low Fat'}, regex=True)\n",
    "df['Item_Fat_Content']=df['Item_Fat_Content'].replace({'low fat': 'Low Fat'}, regex=True)\n",
    "df['Item_Fat_Content']=df['Item_Fat_Content'].replace({'reg': 'Regular'}, regex=True)\n",
    "df['Item_Fat_Content']=df['Item_Fat_Content'].replace({'regular': 'Regular'}, regex=True)"
   ]
  },
  {
   "cell_type": "code",
   "execution_count": 14,
   "metadata": {
    "collapsed": false
   },
   "outputs": [
    {
     "data": {
      "text/plain": [
       "'\\n    Objective:\\n        Our project is to perform data cleaning, make an Exploratory Data Analysis report, visualize distributions \\n        and correlation of features, build a linear regression model taking the selected features through feature engineering and \\n        predict the item_outlet_sales for the test data.\\n        \\n    Description of data:\\n        There are 8523 rows and 12 columns and total number of dataset are 102276. \\n        There are many samples of item to predict the item_outlet_sales.\\n    \\n    Attribute Information:\\n        The list of information on whose basis we will predict the item_outlet_sales are:\\n            Item_Weight\\n            Item_Fat_Content\\n            Item_Visibility\\n            Item_Type\\n            Item_MRP\\n            Outlet_Identifier\\n            Outlet_Establishment_Year\\n            Outlet_Size\\n            Outlet_Location_Type\\n            Outlet_Type\\n            Item_Outlet_Sales\\n            Item_Identifier\\n'"
      ]
     },
     "execution_count": 14,
     "metadata": {},
     "output_type": "execute_result"
    }
   ],
   "source": [
    "#Since, now we have cleaned out dataset, it's time to prepare the EDA report\n",
    "\n",
    "'''\n",
    "    Objective:\n",
    "        Our project is to perform data cleaning, make an Exploratory Data Analysis report, visualize distributions \n",
    "        and correlation of features, build a linear regression model taking the selected features through feature engineering and \n",
    "        predict the item_outlet_sales for the test data.\n",
    "        \n",
    "    Description of data:\n",
    "        There are 8523 rows and 12 columns and total number of dataset are 102276. \n",
    "        There are many samples of item to predict the item_outlet_sales.\n",
    "    \n",
    "    Attribute Information:\n",
    "        The list of information on whose basis we will predict the item_outlet_sales are:\n",
    "            Item_Weight\n",
    "            Item_Fat_Content\n",
    "            Item_Visibility\n",
    "            Item_Type\n",
    "            Item_MRP\n",
    "            Outlet_Identifier\n",
    "            Outlet_Establishment_Year\n",
    "            Outlet_Size\n",
    "            Outlet_Location_Type\n",
    "            Outlet_Type\n",
    "            Item_Outlet_Sales\n",
    "            Item_Identifier\n",
    "'''"
   ]
  },
  {
   "cell_type": "code",
   "execution_count": 15,
   "metadata": {
    "collapsed": false
   },
   "outputs": [
    {
     "data": {
      "text/plain": [
       "<matplotlib.axes._subplots.AxesSubplot at 0x24797570cc0>"
      ]
     },
     "execution_count": 15,
     "metadata": {},
     "output_type": "execute_result"
    }
   ],
   "source": [
    "df['Item_Type'].value_counts().plot.bar()"
   ]
  },
  {
   "cell_type": "code",
   "execution_count": 16,
   "metadata": {
    "collapsed": false
   },
   "outputs": [
    {
     "name": "stdout",
     "output_type": "stream",
     "text": [
      "Observations:\n",
      "\t\t\n",
      "\t-Major items are Fruits and vegetable, snack, household, dairy,canned and baking goods\n",
      "\t-There are very less breakfast, starchy and seafood items Displot of Item_Visibility\n"
     ]
    }
   ],
   "source": [
    "print(\"Observations:\\n\\t\\t\\n\\t-Major items are Fruits and vegetable, snack, household, dairy,canned and baking goods\\n\\t-There are very less breakfast, starchy and seafood items Displot of Item_Visibility\")"
   ]
  },
  {
   "cell_type": "code",
   "execution_count": 17,
   "metadata": {
    "collapsed": false
   },
   "outputs": [
    {
     "data": {
      "image/png": "[encoded data removed]",
      "text/plain": [
       "<matplotlib.figure.Figure at 0x24797e6fe48>"
      ]
     },
     "metadata": {},
     "output_type": "display_data"
    }
   ],
   "source": [
    "sns.distplot(df['Item_Visibility'])\n",
    "plt.title(\"Item Visibility distplot\")\n",
    "plt.show()"
   ]
  },
  {
   "cell_type": "code",
   "execution_count": 18,
   "metadata": {
    "collapsed": false
   },
   "outputs": [
    {
     "name": "stdout",
     "output_type": "stream",
     "text": [
      "Observations:\n",
      "\t-Most of the product have visibility less than .20\n",
      "\t-The graph is having skewness and there are some outliers present #Count plot of Outlet Type\n"
     ]
    }
   ],
   "source": [
    "print(\"Observations:\\n\\t-Most of the product have visibility less than .20\\n\\t-The graph is having skewness and there are some outliers present #Count plot of Outlet Type\")\n"
   ]
  },
  {
   "cell_type": "code",
   "execution_count": 19,
   "metadata": {
    "collapsed": false
   },
   "outputs": [
    {
     "name": "stdout",
     "output_type": "stream",
     "text": [
      "Supermarket type 1 had the most sale\n"
     ]
    }
   ],
   "source": [
    "print(\"Supermarket type 1 had the most sale\")\n"
   ]
  },
  {
   "cell_type": "code",
   "execution_count": 20,
   "metadata": {
    "collapsed": false
   },
   "outputs": [
    {
     "data": {
      "text/plain": [
       "<matplotlib.axes._subplots.AxesSubplot at 0x247979ae908>"
      ]
     },
     "execution_count": 20,
     "metadata": {},
     "output_type": "execute_result"
    }
   ],
   "source": [
    "df['Outlet_Type'].value_counts().plot.bar()\n"
   ]
  },
  {
   "cell_type": "code",
   "execution_count": 21,
   "metadata": {
    "collapsed": false
   },
   "outputs": [
    {
     "name": "stdout",
     "output_type": "stream",
     "text": [
      "Observations: Super market type-1 is very large in number. Rest 3 are almost same in number\n"
     ]
    }
   ],
   "source": [
    "print(\"Observations: Super market type-1 is very large in number. Rest 3 are almost same in number\")\n"
   ]
  },
  {
   "cell_type": "code",
   "execution_count": 22,
   "metadata": {
    "collapsed": false
   },
   "outputs": [
    {
     "data": {
      "text/plain": [
       "<matplotlib.axes._subplots.AxesSubplot at 0x24797ae3940>"
      ]
     },
     "execution_count": 22,
     "metadata": {},
     "output_type": "execute_result"
    }
   ],
   "source": [
    "'''\n",
    "BIVARIATE ANALYSIS\n",
    "'''\n",
    "\n",
    "#Numerical\n",
    "plt.figure(figsize=(12,8))\n",
    "sns.heatmap(df.corr(),annot=True)"
   ]
  },
  {
   "cell_type": "code",
   "execution_count": 23,
   "metadata": {
    "collapsed": false
   },
   "outputs": [
    {
     "data": {
      "text/plain": [
       "<matplotlib.text.Text at 0x24797b5fcf8>"
      ]
     },
     "execution_count": 23,
     "metadata": {},
     "output_type": "execute_result"
    }
   ],
   "source": [
    "sns.boxplot(y='Outlet_Identifier',x='Item_Outlet_Sales',data=df)\n",
    "plt.title(\"Sales and Outlet identifier box plot\")"
   ]
  },
  {
   "cell_type": "code",
   "execution_count": 24,
   "metadata": {
    "collapsed": false
   },
   "outputs": [
    {
     "name": "stdout",
     "output_type": "stream",
     "text": [
      "Observations: Mostly the outlets sales are between 1000-4000. Also there are some outliers.\n"
     ]
    }
   ],
   "source": [
    "print(\"Observations: Mostly the outlets sales are between 1000-4000. Also there are some outliers.\")\n"
   ]
  },
  {
   "cell_type": "code",
   "execution_count": 25,
   "metadata": {
    "collapsed": false
   },
   "outputs": [
    {
     "data": {
      "image/png": "[encoded data removed]",
      "text/plain": [
       "<matplotlib.figure.Figure at 0x247979b44a8>"
      ]
     },
     "metadata": {},
     "output_type": "display_data"
    },
    {
     "data": {
      "image/png": "[encoded data removed]",
      "text/plain": [
       "<matplotlib.figure.Figure at 0x24797b40d30>"
      ]
     },
     "metadata": {},
     "output_type": "display_data"
    }
   ],
   "source": [
    "sns.regplot(x='Item_Weight',y='Item_Outlet_Sales',data=df,x_jitter=0.3,scatter_kws={'alpha':0.1})\n",
    "plt.title(\"Item_Weight v/s Item_Outlet_Sales\")\n",
    "plt.show()"
   ]
  },
  {
   "cell_type": "code",
   "execution_count": 26,
   "metadata": {
    "collapsed": false
   },
   "outputs": [
    {
     "name": "stdout",
     "output_type": "stream",
     "text": [
      "Observations:\n",
      "\t-High number of product have weight near 12.5\n",
      "\t-Major sales is less than 2000\n"
     ]
    }
   ],
   "source": [
    "print(\"Observations:\\n\\t-High number of product have weight near 12.5\\n\\t-Major sales is less than 2000\")\n"
   ]
  },
  {
   "cell_type": "code",
   "execution_count": 27,
   "metadata": {
    "collapsed": false
   },
   "outputs": [
    {
     "data": {
      "text/plain": [
       "<seaborn.axisgrid.JointGrid at 0x247979aa898>"
      ]
     },
     "execution_count": 27,
     "metadata": {},
     "output_type": "execute_result"
    }
   ],
   "source": [
    "sns.jointplot(x='Item_MRP',y='Item_Outlet_Sales',size=6 ,data = df.sample(600),kind = 'reg')\n"
   ]
  },
  {
   "cell_type": "code",
   "execution_count": 28,
   "metadata": {
    "collapsed": false
   },
   "outputs": [
    {
     "name": "stdout",
     "output_type": "stream",
     "text": [
      "Observation(s): As Mrp increases sales also increases\n"
     ]
    }
   ],
   "source": [
    "print(\"Observation(s): As Mrp increases sales also increases\")\n"
   ]
  },
  {
   "cell_type": "code",
   "execution_count": 29,
   "metadata": {
    "collapsed": false
   },
   "outputs": [
    {
     "data": {
      "text/plain": [
       "<seaborn.axisgrid.JointGrid at 0x24797cdc668>"
      ]
     },
     "execution_count": 29,
     "metadata": {},
     "output_type": "execute_result"
    }
   ],
   "source": [
    "sns.jointplot(x='Item_Visibility',y='Item_Outlet_Sales',size=6,kind='reg',data = df.sample(600))\n"
   ]
  },
  {
   "cell_type": "code",
   "execution_count": 30,
   "metadata": {
    "collapsed": false
   },
   "outputs": [
    {
     "name": "stdout",
     "output_type": "stream",
     "text": [
      "As Visibiltiy % increases sales decreases\n"
     ]
    }
   ],
   "source": [
    "print(\"As Visibiltiy % increases sales decreases\")\n"
   ]
  },
  {
   "cell_type": "code",
   "execution_count": 31,
   "metadata": {
    "collapsed": false
   },
   "outputs": [
    {
     "ename": "TypeError",
     "evalue": "include and exclude must both be non-string sequences",
     "output_type": "error",
     "traceback": [
      "\u001b[0;31m---------------------------------------------------------------------------\u001b[0m",
      "\u001b[0;31mTypeError\u001b[0m                                 Traceback (most recent call last)",
      "\u001b[0;32m<ipython-input-31-687a83fcbb4b>\u001b[0m in \u001b[0;36m<module>\u001b[0;34m()\u001b[0m\n\u001b[1;32m     14\u001b[0m     \u001b[0manv\u001b[0m\u001b[1;33m[\u001b[0m\u001b[1;34m'pval'\u001b[0m\u001b[1;33m]\u001b[0m \u001b[1;33m=\u001b[0m \u001b[0mpvals\u001b[0m\u001b[1;33m\u001b[0m\u001b[0m\n\u001b[1;32m     15\u001b[0m     \u001b[1;32mreturn\u001b[0m \u001b[0manv\u001b[0m\u001b[1;33m.\u001b[0m\u001b[0msort_values\u001b[0m\u001b[1;33m(\u001b[0m\u001b[1;34m'pval'\u001b[0m\u001b[1;33m)\u001b[0m\u001b[1;33m\u001b[0m\u001b[0m\n\u001b[0;32m---> 16\u001b[0;31m \u001b[0mnum\u001b[0m \u001b[1;33m=\u001b[0m \u001b[0mdf\u001b[0m\u001b[1;33m.\u001b[0m\u001b[0mselect_dtypes\u001b[0m\u001b[1;33m(\u001b[0m\u001b[0mexclude\u001b[0m \u001b[1;33m=\u001b[0m\u001b[1;34m'object'\u001b[0m\u001b[1;33m)\u001b[0m\u001b[1;33m\u001b[0m\u001b[0m\n\u001b[0m\u001b[1;32m     17\u001b[0m \u001b[0mcat\u001b[0m \u001b[1;33m=\u001b[0m \u001b[0mdf\u001b[0m\u001b[1;33m.\u001b[0m\u001b[0mselect_dtypes\u001b[0m\u001b[1;33m(\u001b[0m\u001b[0minclude\u001b[0m \u001b[1;33m=\u001b[0m\u001b[1;34m'object'\u001b[0m\u001b[1;33m)\u001b[0m\u001b[1;33m\u001b[0m\u001b[0m\n\u001b[1;32m     18\u001b[0m \u001b[0mcat\u001b[0m\u001b[1;33m[\u001b[0m\u001b[1;34m'Item_Outlet_Sales'\u001b[0m\u001b[1;33m]\u001b[0m \u001b[1;33m=\u001b[0m \u001b[0mnum\u001b[0m\u001b[1;33m.\u001b[0m\u001b[0mItem_Outlet_Sales\u001b[0m\u001b[1;33m.\u001b[0m\u001b[0mvalues\u001b[0m\u001b[1;33m\u001b[0m\u001b[0m\n",
      "\u001b[0;32mE:\\Psst\\WinPython-64bit-3.5.3.0Qt5\\python-3.5.3.amd64\\lib\\site-packages\\pandas\\core\\frame.py\u001b[0m in \u001b[0;36mselect_dtypes\u001b[0;34m(self, include, exclude)\u001b[0m\n\u001b[1;32m   2345\u001b[0m         \u001b[0minclude\u001b[0m\u001b[1;33m,\u001b[0m \u001b[0mexclude\u001b[0m \u001b[1;33m=\u001b[0m \u001b[0minclude\u001b[0m \u001b[1;32mor\u001b[0m \u001b[1;33m(\u001b[0m\u001b[1;33m)\u001b[0m\u001b[1;33m,\u001b[0m \u001b[0mexclude\u001b[0m \u001b[1;32mor\u001b[0m \u001b[1;33m(\u001b[0m\u001b[1;33m)\u001b[0m\u001b[1;33m\u001b[0m\u001b[0m\n\u001b[1;32m   2346\u001b[0m         \u001b[1;32mif\u001b[0m \u001b[1;32mnot\u001b[0m \u001b[1;33m(\u001b[0m\u001b[0mis_list_like\u001b[0m\u001b[1;33m(\u001b[0m\u001b[0minclude\u001b[0m\u001b[1;33m)\u001b[0m \u001b[1;32mand\u001b[0m \u001b[0mis_list_like\u001b[0m\u001b[1;33m(\u001b[0m\u001b[0mexclude\u001b[0m\u001b[1;33m)\u001b[0m\u001b[1;33m)\u001b[0m\u001b[1;33m:\u001b[0m\u001b[1;33m\u001b[0m\u001b[0m\n\u001b[0;32m-> 2347\u001b[0;31m             raise TypeError('include and exclude must both be non-string'\n\u001b[0m\u001b[1;32m   2348\u001b[0m                             ' sequences')\n\u001b[1;32m   2349\u001b[0m         \u001b[0mselection\u001b[0m \u001b[1;33m=\u001b[0m \u001b[0mtuple\u001b[0m\u001b[1;33m(\u001b[0m\u001b[0mmap\u001b[0m\u001b[1;33m(\u001b[0m\u001b[0mfrozenset\u001b[0m\u001b[1;33m,\u001b[0m \u001b[1;33m(\u001b[0m\u001b[0minclude\u001b[0m\u001b[1;33m,\u001b[0m \u001b[0mexclude\u001b[0m\u001b[1;33m)\u001b[0m\u001b[1;33m)\u001b[0m\u001b[1;33m)\u001b[0m\u001b[1;33m\u001b[0m\u001b[0m\n",
      "\u001b[0;31mTypeError\u001b[0m: include and exclude must both be non-string sequences"
     ]
    }
   ],
   "source": [
    "from scipy import stats\n",
    "cate = [f for f in df.columns if df.dtypes[f] == 'object']\n",
    "def anova(frame):\n",
    "    anv = pd.DataFrame()\n",
    "    anv['features'] = cate\n",
    "    pvals = []\n",
    "    for c in cate:\n",
    "        samples = []\n",
    "        for cls in frame[c].unique():\n",
    "            s = frame[frame[c] == cls]['Item_Outlet_Sales'].values\n",
    "            samples.append(s)\n",
    "        pval = stats.f_oneway(*samples)[1]\n",
    "        pvals.append(pval)\n",
    "    anv['pval'] = pvals\n",
    "    return anv.sort_values('pval')\n",
    "num = df.select_dtypes(exclude ='object')\n",
    "cat = df.select_dtypes(include ='object')\n",
    "cat['Item_Outlet_Sales'] = num.Item_Outlet_Sales.values\n",
    "k = anova(cat)\n",
    "k['Disparity'] = np.log(1./k['pval'].values)\n",
    "sns.barplot(data = k,x='features',y='Disparity')\n",
    "plt.xticks(rotation = 90)"
   ]
  },
  {
   "cell_type": "code",
   "execution_count": 32,
   "metadata": {
    "collapsed": false
   },
   "outputs": [
    {
     "name": "stdout",
     "output_type": "stream",
     "text": [
      "Observation(s): The item_identifier is the one that influences the sale price for outlet followed by location type and size\n"
     ]
    }
   ],
   "source": [
    "print(\"Observation(s): The item_identifier is the one that influences the sale price for outlet followed by location type and size\")\n"
   ]
  },
  {
   "cell_type": "code",
   "execution_count": 33,
   "metadata": {
    "collapsed": false
   },
   "outputs": [
    {
     "name": "stdout",
     "output_type": "stream",
     "text": [
      "   Item_MRP  Item_Weight Item_Identifier Outlet_Identifier  \\\n",
      "0  249.8092         9.30           FDA15            OUT049   \n",
      "1   48.2692         5.92           DRC01            OUT018   \n",
      "2  141.6180        17.50           FDN15            OUT049   \n",
      "3  182.0950        19.20           FDX07            OUT010   \n",
      "4   53.8614         8.93           NCD19            OUT013   \n",
      "\n",
      "  Outlet_Location_Type Outlet_Size              Item_Type  Item_Outlet_Sales  \\\n",
      "0               Tier 1      Medium                  Dairy          3735.1380   \n",
      "1               Tier 3      Medium            Soft Drinks           443.4228   \n",
      "2               Tier 1      Medium                   Meat          2097.2700   \n",
      "3               Tier 3       Small  Fruits and Vegetables           732.3800   \n",
      "4               Tier 3        High              Household           994.7052   \n",
      "\n",
      "  Item_Fat_Content  Item_Visibility  \n",
      "0          Low Fat         0.016047  \n",
      "1          Regular         0.019278  \n",
      "2          Low Fat         0.016760  \n",
      "3          Regular         0.000000  \n",
      "4          Low Fat         0.000000  \n"
     ]
    }
   ],
   "source": [
    "\n",
    "int_features =['Item_MRP','Item_Weight','Item_Identifier','Outlet_Identifier','Outlet_Location_Type','Outlet_Size','Item_Type','Item_Outlet_Sales','Item_Fat_Content','Item_Visibility']\n",
    "s_df = df[int_features]\n",
    "print(s_df.head())"
   ]
  },
  {
   "cell_type": "code",
   "execution_count": 34,
   "metadata": {
    "collapsed": true
   },
   "outputs": [],
   "source": [
    "data = df.copy()"
   ]
  },
  {
   "cell_type": "code",
   "execution_count": 35,
   "metadata": {
    "collapsed": false
   },
   "outputs": [
    {
     "name": "stdout",
     "output_type": "stream",
     "text": [
      "  Item_Identifier  Item_Weight Item_Fat_Content  Item_Visibility  \\\n",
      "0           FDA15         9.30          Low Fat         0.016047   \n",
      "1           DRC01         5.92          Regular         0.019278   \n",
      "2           FDN15        17.50          Low Fat         0.016760   \n",
      "3           FDX07        19.20          Regular         0.000000   \n",
      "4           NCD19         8.93          Low Fat         0.000000   \n",
      "\n",
      "               Item_Type  Item_MRP Outlet_Identifier  \\\n",
      "0                  Dairy  249.8092            OUT049   \n",
      "1            Soft Drinks   48.2692            OUT018   \n",
      "2                   Meat  141.6180            OUT049   \n",
      "3  Fruits and Vegetables  182.0950            OUT010   \n",
      "4              Household   53.8614            OUT013   \n",
      "\n",
      "   Outlet_Establishment_Year Outlet_Size Outlet_Location_Type  \\\n",
      "0                       1999      Medium               Tier 1   \n",
      "1                       2009      Medium               Tier 3   \n",
      "2                       1999      Medium               Tier 1   \n",
      "3                       1998       Small               Tier 3   \n",
      "4                       1987        High               Tier 3   \n",
      "\n",
      "         Outlet_Type  Item_Outlet_Sales  \n",
      "0  Supermarket Type1          3735.1380  \n",
      "1  Supermarket Type2           443.4228  \n",
      "2  Supermarket Type1          2097.2700  \n",
      "3      Grocery Store           732.3800  \n",
      "4  Supermarket Type1           994.7052  \n",
      "Outlet_Type\n",
      "Grocery Store         339.828500\n",
      "Supermarket Type1    2316.181148\n",
      "Supermarket Type2    1995.498739\n",
      "Supermarket Type3    3694.038558\n",
      "Name: Item_Outlet_Sales, dtype: float64\n"
     ]
    }
   ],
   "source": [
    "print(data.head())\n",
    "print(data.pivot_table(values='Item_Outlet_Sales',index='Outlet_Type'))"
   ]
  },
  {
   "cell_type": "code",
   "execution_count": 36,
   "metadata": {
    "collapsed": false
   },
   "outputs": [
    {
     "name": "stdout",
     "output_type": "stream",
     "text": [
      "Item_Type\n",
      "Baking Goods             1952.971207\n",
      "Breads                   2204.132226\n",
      "Breakfast                2111.808651\n",
      "Canned                   2225.194904\n",
      "Dairy                    2232.542597\n",
      "Frozen Foods             2132.867744\n",
      "Fruits and Vegetables    2289.009592\n",
      "Hard Drinks              2139.221622\n",
      "Health and Hygiene       2010.000265\n",
      "Household                2258.784300\n",
      "Meat                     2158.977911\n",
      "Others                   1926.139702\n",
      "Seafood                  2326.065928\n",
      "Snack Foods              2277.321739\n",
      "Soft Drinks              2006.511735\n",
      "Starchy Foods            2374.332773\n",
      "Name: Item_Outlet_Sales, dtype: float64\n"
     ]
    }
   ],
   "source": [
    "print(data.pivot_table(values='Item_Outlet_Sales',index='Item_Type'))"
   ]
  },
  {
   "cell_type": "code",
   "execution_count": 37,
   "metadata": {
    "collapsed": false
   },
   "outputs": [
    {
     "name": "stdout",
     "output_type": "stream",
     "text": [
      "0     FD\n",
      "1     DR\n",
      "2     FD\n",
      "3     FD\n",
      "4     NC\n",
      "5     FD\n",
      "6     FD\n",
      "7     FD\n",
      "8     FD\n",
      "9     FD\n",
      "10    FD\n",
      "11    FD\n",
      "12    FD\n",
      "13    FD\n",
      "14    FD\n",
      "15    FD\n",
      "16    NC\n",
      "17    FD\n",
      "18    DR\n",
      "19    FD\n",
      "Name: CombineItemType, dtype: object\n"
     ]
    }
   ],
   "source": [
    "data['CombineItemType'] = data['Item_Identifier'].apply(lambda x : x[0:2])\n",
    "print(data['CombineItemType'].head(20))"
   ]
  },
  {
   "cell_type": "code",
   "execution_count": 38,
   "metadata": {
    "collapsed": false
   },
   "outputs": [
    {
     "name": "stdout",
     "output_type": "stream",
     "text": [
      "Fooding          6125\n",
      "NonConsumable    1599\n",
      "Drinking          799\n",
      "Name: CombineItemType, dtype: int64\n"
     ]
    }
   ],
   "source": [
    "data['CombineItemType'] = data['CombineItemType'].map({'FD':'Fooding', 'DR':'Drinking', 'NC':'NonConsumable'})\n",
    "print(data['CombineItemType'].value_counts())\n"
   ]
  },
  {
   "cell_type": "code",
   "execution_count": 39,
   "metadata": {
    "collapsed": false
   },
   "outputs": [
    {
     "name": "stdout",
     "output_type": "stream",
     "text": [
      "Number of 0 values after modification: 0\n"
     ]
    }
   ],
   "source": [
    "data['Item_Visibility'].replace(0,data['Item_Visibility'].mean(),inplace=True)\n",
    "print ('Number of 0 values after modification: %d'%sum(data['Item_Visibility'] == 0))\n",
    "data['Outlet_Years'] = 2013 - data['Outlet_Establishment_Year']"
   ]
  },
  {
   "cell_type": "code",
   "execution_count": 40,
   "metadata": {
    "collapsed": false
   },
   "outputs": [
    {
     "name": "stdout",
     "output_type": "stream",
     "text": [
      "count    8523.000000\n",
      "mean       15.168133\n",
      "std         8.371760\n",
      "min         4.000000\n",
      "25%         9.000000\n",
      "50%        14.000000\n",
      "75%        26.000000\n",
      "max        28.000000\n",
      "Name: Outlet_Years, dtype: float64\n"
     ]
    }
   ],
   "source": [
    "print(data['Outlet_Years'].describe())\n"
   ]
  },
  {
   "cell_type": "code",
   "execution_count": 41,
   "metadata": {
    "collapsed": false
   },
   "outputs": [
    {
     "name": "stdout",
     "output_type": "stream",
     "text": [
      "Low Fat       3918\n",
      "Regular       3006\n",
      "Non-Edible    1599\n",
      "Name: Item_Fat_Content, dtype: int64\n"
     ]
    }
   ],
   "source": [
    "data.loc[data['CombineItemType']==\"NonConsumable\",'Item_Fat_Content'] = \"Non-Edible\"\n",
    "print(data['Item_Fat_Content'].value_counts())"
   ]
  },
  {
   "cell_type": "code",
   "execution_count": 42,
   "metadata": {
    "collapsed": false
   },
   "outputs": [
    {
     "name": "stdout",
     "output_type": "stream",
     "text": [
      "<class 'pandas.core.frame.DataFrame'>\n",
      "RangeIndex: 8523 entries, 0 to 8522\n",
      "Data columns (total 25 columns):\n",
      "Item_Identifier              8523 non-null object\n",
      "Item_Weight                  8523 non-null float64\n",
      "Item_Visibility              8523 non-null float64\n",
      "Item_Type                    8523 non-null object\n",
      "Item_MRP                     8523 non-null float64\n",
      "Outlet_Identifier            8523 non-null int64\n",
      "Outlet_Establishment_Year    8523 non-null int64\n",
      "Item_Outlet_Sales            8523 non-null float64\n",
      "Outlet_Years                 8523 non-null int64\n",
      "Item_Fat_Content_0           8523 non-null uint8\n",
      "Item_Fat_Content_1           8523 non-null uint8\n",
      "Item_Fat_Content_2           8523 non-null uint8\n",
      "Outlet_Location_Type_0       8523 non-null uint8\n",
      "Outlet_Location_Type_1       8523 non-null uint8\n",
      "Outlet_Location_Type_2       8523 non-null uint8\n",
      "Outlet_Size_0                8523 non-null uint8\n",
      "Outlet_Size_1                8523 non-null uint8\n",
      "Outlet_Size_2                8523 non-null uint8\n",
      "Outlet_Type_0                8523 non-null uint8\n",
      "Outlet_Type_1                8523 non-null uint8\n",
      "Outlet_Type_2                8523 non-null uint8\n",
      "Outlet_Type_3                8523 non-null uint8\n",
      "CombineItemType_0            8523 non-null uint8\n",
      "CombineItemType_1            8523 non-null uint8\n",
      "CombineItemType_2            8523 non-null uint8\n",
      "dtypes: float64(4), int64(3), object(2), uint8(16)\n",
      "memory usage: 732.5+ KB\n",
      "None\n"
     ]
    }
   ],
   "source": [
    "from sklearn.preprocessing import LabelEncoder\n",
    "le = LabelEncoder()\n",
    "categorical_cols = ['Item_Fat_Content','Outlet_Location_Type','Outlet_Size','CombineItemType','Outlet_Type','Outlet_Identifier']\n",
    "for item in categorical_cols:\n",
    "  data[item] = le.fit_transform(data[item])\n",
    "data = pd.get_dummies(data, columns=['Item_Fat_Content','Outlet_Location_Type','Outlet_Size','Outlet_Type','CombineItemType',])\n",
    "print(data.info())"
   ]
  },
  {
   "cell_type": "code",
   "execution_count": 43,
   "metadata": {
    "collapsed": false
   },
   "outputs": [
    {
     "name": "stdout",
     "output_type": "stream",
     "text": [
      "   Item_Weight  Item_Visibility  Item_MRP  Outlet_Years  Item_Fat_Content_0  \\\n",
      "0         9.30         0.016047  249.8092            14                   1   \n",
      "1         5.92         0.019278   48.2692             4                   0   \n",
      "2        17.50         0.016760  141.6180            14                   1   \n",
      "3        19.20         0.066132  182.0950            15                   0   \n",
      "4         8.93         0.066132   53.8614            26                   0   \n",
      "\n",
      "   Item_Fat_Content_1  Item_Fat_Content_2  Outlet_Location_Type_0  \\\n",
      "0                   0                   0                       1   \n",
      "1                   0                   1                       0   \n",
      "2                   0                   0                       1   \n",
      "3                   0                   1                       0   \n",
      "4                   1                   0                       0   \n",
      "\n",
      "   Outlet_Location_Type_1  Outlet_Location_Type_2  Outlet_Size_0  \\\n",
      "0                       0                       0              0   \n",
      "1                       0                       1              0   \n",
      "2                       0                       0              0   \n",
      "3                       0                       1              0   \n",
      "4                       0                       1              1   \n",
      "\n",
      "   Outlet_Size_1  Outlet_Size_2  Outlet_Type_0  Outlet_Type_1  Outlet_Type_2  \\\n",
      "0              1              0              0              1              0   \n",
      "1              1              0              0              0              1   \n",
      "2              1              0              0              1              0   \n",
      "3              0              1              1              0              0   \n",
      "4              0              0              0              1              0   \n",
      "\n",
      "   Outlet_Type_3  CombineItemType_0  CombineItemType_1  CombineItemType_2  \n",
      "0              0                  0                  1                  0  \n",
      "1              0                  1                  0                  0  \n",
      "2              0                  0                  1                  0  \n",
      "3              0                  0                  1                  0  \n",
      "4              0                  0                  0                  1  \n"
     ]
    }
   ],
   "source": [
    "x=  data.drop(['Item_Identifier', 'Item_Type', 'Outlet_Establishment_Year', 'Item_Outlet_Sales','Outlet_Identifier'], axis=1)\n",
    "y = data['Item_Outlet_Sales']\n",
    "print(x.head())"
   ]
  },
  {
   "cell_type": "code",
   "execution_count": 44,
   "metadata": {
    "collapsed": false
   },
   "outputs": [
    {
     "name": "stdout",
     "output_type": "stream",
     "text": [
      "(6818, 20)\n",
      "(1705, 20)\n",
      "(6818,)\n",
      "(1705,)\n"
     ]
    }
   ],
   "source": [
    "from  sklearn.model_selection import train_test_split\n",
    "x_train, x_test, y_train, y_test = train_test_split(x, y, test_size=0.20, random_state=101)\n",
    "print(x_train.shape)\n",
    "print(x_test.shape)\n",
    "print(y_train.shape)\n",
    "print(y_test.shape)"
   ]
  },
  {
   "cell_type": "code",
   "execution_count": 45,
   "metadata": {
    "collapsed": false
   },
   "outputs": [
    {
     "name": "stdout",
     "output_type": "stream",
     "text": [
      "MeanAbsoluteError: 824.732790921\n"
     ]
    }
   ],
   "source": [
    "from sklearn.linear_model import LinearRegression\n",
    "lr=LinearRegression()\n",
    "lr.fit(x_train, y_train)\n",
    "pred=lr.predict(x_test)\n",
    "lr.score(x_train, y_train)\n",
    "from  sklearn import metrics\n",
    "print('MeanAbsoluteError:',  metrics.mean_absolute_error(y_test, pred))"
   ]
  },
  {
   "cell_type": "code",
   "execution_count": 46,
   "metadata": {
    "collapsed": false
   },
   "outputs": [
    {
     "name": "stdout",
     "output_type": "stream",
     "text": [
      "MeanSquareError: 1206361.86224\n"
     ]
    }
   ],
   "source": [
    "print('MeanSquareError:', metrics.mean_squared_error(y_test, pred))\n"
   ]
  },
  {
   "cell_type": "code",
   "execution_count": 47,
   "metadata": {
    "collapsed": false
   },
   "outputs": [
    {
     "name": "stdout",
     "output_type": "stream",
     "text": [
      "RootMeanSquareError: 1098.34505609\n"
     ]
    }
   ],
   "source": [
    "print('RootMeanSquareError:', np.sqrt(metrics.mean_squared_error(y_test, pred)))\n"
   ]
  },
  {
   "cell_type": "code",
   "execution_count": 48,
   "metadata": {
    "collapsed": false
   },
   "outputs": [
    {
     "name": "stdout",
     "output_type": "stream",
     "text": [
      "MeanAbsoluteError: 742.755292261\n"
     ]
    }
   ],
   "source": [
    "from sklearn.ensemble import GradientBoostingRegressor\n",
    "gbr=GradientBoostingRegressor()\n",
    "gbr.fit(x_train,y_train)\n",
    "gbr.score(x_test,y_test)\n",
    "gpred=gbr.predict(x_test)\n",
    "from  sklearn import metrics\n",
    "print('MeanAbsoluteError:',  metrics.mean_absolute_error(y_test, gpred))"
   ]
  },
  {
   "cell_type": "code",
   "execution_count": 49,
   "metadata": {
    "collapsed": false
   },
   "outputs": [
    {
     "name": "stdout",
     "output_type": "stream",
     "text": [
      "MeanSquareError: 1095841.04237\n"
     ]
    }
   ],
   "source": [
    "print('MeanSquareError:', metrics.mean_squared_error(y_test, gpred))\n"
   ]
  },
  {
   "cell_type": "code",
   "execution_count": 50,
   "metadata": {
    "collapsed": false
   },
   "outputs": [
    {
     "name": "stdout",
     "output_type": "stream",
     "text": [
      "RootMeanSquareError: 1046.82426528\n"
     ]
    }
   ],
   "source": [
    "print('RootMeanSquareError:', np.sqrt(metrics.mean_squared_error(y_test, gpred)))\n"
   ]
  },
  {
   "cell_type": "code",
   "execution_count": 51,
   "metadata": {
    "collapsed": false
   },
   "outputs": [
    {
     "name": "stdout",
     "output_type": "stream",
     "text": [
      "{'n_estimators': 50}\n"
     ]
    }
   ],
   "source": [
    "from sklearn.model_selection import GridSearchCV\n",
    "grid_para={'n_estimators':[10,50,100,500,1000]}\n",
    "gsc=GridSearchCV(GradientBoostingRegressor(),grid_para)\n",
    "gsc.fit(x_train,y_train)\n",
    "print(gsc.best_params_)\n"
   ]
  },
  {
   "cell_type": "code",
   "execution_count": 52,
   "metadata": {
    "collapsed": false
   },
   "outputs": [
    {
     "name": "stdout",
     "output_type": "stream",
     "text": [
      "0.124343269332\n"
     ]
    }
   ],
   "source": [
    "from sklearn.tree import DecisionTreeRegressor\n",
    "DTR= DecisionTreeRegressor()\n",
    "DTR.fit(x_train,y_train)\n",
    "#FINDING Accuracy score\n",
    "print(DTR.score(x_test,y_test))"
   ]
  },
  {
   "cell_type": "code",
   "execution_count": 53,
   "metadata": {
    "collapsed": false
   },
   "outputs": [
    {
     "name": "stdout",
     "output_type": "stream",
     "text": [
      "MeanAbsoluteError: 1087.85979672\n"
     ]
    }
   ],
   "source": [
    "dpred=DTR.predict(x_test)\n",
    "from  sklearn import metrics\n",
    "print('MeanAbsoluteError:',  metrics.mean_absolute_error(y_test, dpred))"
   ]
  },
  {
   "cell_type": "code",
   "execution_count": 54,
   "metadata": {
    "collapsed": false
   },
   "outputs": [
    {
     "name": "stdout",
     "output_type": "stream",
     "text": [
      "MeanSquareError: 2386483.97784\n"
     ]
    }
   ],
   "source": [
    "print('MeanSquareError:', metrics.mean_squared_error(y_test, dpred))\n"
   ]
  },
  {
   "cell_type": "code",
   "execution_count": 55,
   "metadata": {
    "collapsed": false
   },
   "outputs": [
    {
     "name": "stdout",
     "output_type": "stream",
     "text": [
      "RootMeanSquareError: 1544.824902\n"
     ]
    }
   ],
   "source": [
    "print('RootMeanSquareError:', np.sqrt(metrics.mean_squared_error(y_test, dpred)))\n"
   ]
  },
  {
   "cell_type": "code",
   "execution_count": 56,
   "metadata": {
    "collapsed": false
   },
   "outputs": [
    {
     "name": "stdout",
     "output_type": "stream",
     "text": [
      "0.514630323661\n"
     ]
    }
   ],
   "source": [
    "from sklearn.ensemble import RandomForestRegressor\n",
    "rfr = RandomForestRegressor()\n",
    "rfr.fit(x_train, y_train)\n",
    "print(rfr.score(x_test,y_test))"
   ]
  },
  {
   "cell_type": "code",
   "execution_count": 57,
   "metadata": {
    "collapsed": false
   },
   "outputs": [
    {
     "name": "stdout",
     "output_type": "stream",
     "text": [
      "MeanAbsoluteError: 809.854284293\n"
     ]
    }
   ],
   "source": [
    "rpred=rfr.predict(x_test)\n",
    "from sklearn import metrics\n",
    "print('MeanAbsoluteError:',  metrics.mean_absolute_error(y_test, rpred))"
   ]
  },
  {
   "cell_type": "code",
   "execution_count": 58,
   "metadata": {
    "collapsed": false
   },
   "outputs": [
    {
     "name": "stdout",
     "output_type": "stream",
     "text": [
      "MeanSquareError: 1322809.40161\n"
     ]
    }
   ],
   "source": [
    "print('MeanSquareError:', metrics.mean_squared_error(y_test, rpred))\n"
   ]
  },
  {
   "cell_type": "code",
   "execution_count": 59,
   "metadata": {
    "collapsed": false
   },
   "outputs": [
    {
     "name": "stdout",
     "output_type": "stream",
     "text": [
      "RootMeanSquareError: 1544.824902\n"
     ]
    }
   ],
   "source": [
    "print('RootMeanSquareError:', np.sqrt(metrics.mean_squared_error(y_test, dpred)))\n"
   ]
  },
  {
   "cell_type": "code",
   "execution_count": null,
   "metadata": {
    "collapsed": true
   },
   "outputs": [],
   "source": [
    "from sklearn.model_selection import GridSearchCV\n",
    "grid_para={'n_estimators':[50,100,150,200,500],'max_depth':[2,4,5,6,7,8]}\n",
    "gsb=GridSearchCV(RandomForestRegressor(),grid_para)\n",
    "gsb.fit(x_train,y_train)\n",
    "print(gsb.best_params_)\n"
   ]
  },
  {
   "cell_type": "code",
   "execution_count": null,
   "metadata": {
    "collapsed": true
   },
   "outputs": [],
   "source": [
    "grid_rbr=RandomForestRegressor(max_depth= 5, n_estimators= 200)\n",
    "grid_rbr.fit(x_train,y_train)\n",
    "print(grid_rbr.score(x_test,y_test))"
   ]
  },
  {
   "cell_type": "code",
   "execution_count": null,
   "metadata": {
    "collapsed": true
   },
   "outputs": [],
   "source": [
    "print(\"CONCLUSION: \\n\\nThe data was imported and cleaning was performed in the early stages of analysis. Then an EDA report on the data was prepared and then some FEATURE ENGINEERING was performed. \\n\\nAfter training and spliting the data and performing various Algorithms such as Random Forest, Gradient Boosting , Linear Regression and Gradient Tree Regressor, we calculated the Accuracy score and came to the conclusion that Gradient Boosting Regressor has the best result that is near to 60% which is not quite good ideally but still is better than other approaches.\")"
   ]
  },
  {
   "cell_type": "code",
   "execution_count": null,
   "metadata": {
    "collapsed": true
   },
   "outputs": [],
   "source": []
  }
 ],
 "metadata": {
  "kernelspec": {
   "display_name": "Python 3",
   "language": "python",
   "name": "python3"
  },
  "language_info": {
   "codemirror_mode": {
    "name": "ipython",
    "version": 3
   },
   "file_extension": ".py",
   "mimetype": "text/x-python",
   "name": "python",
   "nbconvert_exporter": "python",
   "pygments_lexer": "ipython3",
   "version": "3.5.3"
  }
 },
 "nbformat": 4,
 "nbformat_minor": 2
}
